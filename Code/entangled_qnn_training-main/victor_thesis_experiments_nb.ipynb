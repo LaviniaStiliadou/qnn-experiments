{
 "cells": [
  {
   "cell_type": "code",
   "execution_count": 1,
   "metadata": {},
   "outputs": [
    {
     "name": "stdout",
     "output_type": "stream",
     "text": [
      "starting\n",
      "done\n"
     ]
    }
   ],
   "source": [
    "# imports\n",
    "%load_ext autoreload\n",
    "%autoreload 2\n",
    "from victor_thesis_experiments import *\n",
    "from victor_thesis_utils import *\n",
    "from victor_thesis_landscapes import *\n",
    "from victor_thesis_plots import *\n",
    "from victor_thesis_metrics import *"
   ]
  },
  {
   "cell_type": "code",
   "execution_count": 2,
   "metadata": {},
   "outputs": [
    {
     "name": "stderr",
     "output_type": "stream",
     "text": [
      "c:\\Users\\victo\\OneDrive\\Desktop\\Uni-Projects\\master-thesis\\Code\\entangled_qnn_training-main\\victor_thesis_landscapes.py:35: UserWarning: Creating a tensor from a list of numpy.ndarrays is extremely slow. Please consider converting the list to a single numpy.ndarray with numpy.array() before converting to a tensor. (Triggered internally at C:\\actions-runner\\_work\\pytorch\\pytorch\\builder\\windows\\pytorch\\torch\\csrc\\utils\\tensor_new.cpp:248.)\n",
      "  tensor = torch.tensor([zero_state, one_state])\n"
     ]
    },
    {
     "name": "stdout",
     "output_type": "stream",
     "text": [
      "TOTAL VARIATION:  179.32 209.55 200.93\n",
      "IGSD (dir 1): 8.15\n",
      "IGSD (dir 2): 7.77\n",
      "IGSD (dir 3): 2.130596368227598e+16\n",
      "---------\n",
      "IGSD (dir 1): 13.87\n",
      "IGSD (dir 2): 9.71\n",
      "IGSD (dir 3): 10.36\n",
      "---------\n",
      "IGSD (dir 1): 11.55\n",
      "IGSD (dir 2): 10.62\n",
      "IGSD (dir 3): 11.06\n",
      "---------\n",
      "fourier densities:\n",
      "3.2\n",
      "6.503\n",
      "5.226\n",
      "---------\n",
      "Scalar curvature absolute sums: \n",
      "17.81477881896175\n",
      "10.424848936890548\n",
      "10.519543418860495\n"
     ]
    }
   ],
   "source": [
    "# n-dim tests\n",
    "def n_dim_tests(\n",
    "):\n",
    "    qnn = get_qnn(\"CudaPennylane\", list(range(1)), 1, device=\"cpu\")\n",
    "    unitary = torch.tensor(\n",
    "        np.array([[1, 1], [1, -1]]) / np.sqrt(2), dtype=torch.complex128, device=\"cpu\"\n",
    "    )\n",
    "    num_ticks = 12\n",
    "    # generate data points\n",
    "    non_entangled_inputs = generate_random_datapoints(5, 1, unitary)\n",
    "    entangled_inputs = generate_random_datapoints(5, 2, unitary)\n",
    "    z_o_inputs = get_zero_one_datapoints()\n",
    "    # get 3d landscapes\n",
    "    loss_z_o_3d= generate_3D_loss_landscape(\n",
    "        num_ticks, z_o_inputs, unitary\n",
    "    )\n",
    "    loss_non_ent_3d= generate_3D_loss_landscape(\n",
    "        num_ticks, non_entangled_inputs, unitary\n",
    "    )\n",
    "    loss_ent_3d= generate_3D_loss_landscape(\n",
    "        num_ticks, entangled_inputs, unitary\n",
    "    )\n",
    "    landscapes = [loss_z_o_3d, loss_non_ent_3d, loss_ent_3d]\n",
    "    #test total variation\n",
    "    print(\n",
    "        \"TOTAL VARIATION: \",\n",
    "        calc_total_variation(landscapes[0]),\n",
    "        calc_total_variation(landscapes[1]),\n",
    "        calc_total_variation(landscapes[2]),\n",
    "    )\n",
    "    #test igsd\n",
    "    for landscape in landscapes:\n",
    "        igsd = calc_IGSD(landscape)\n",
    "        count = 1\n",
    "        for sd in igsd:\n",
    "            print(f\"IGSD (dir {count}): {sd}\")\n",
    "            count +=1\n",
    "        print(\"---------\")\n",
    "    #test fourier stuff\n",
    "    print(\"fourier densities:\")\n",
    "    print(calc_fourier_density(landscapes[0]))\n",
    "    print(calc_fourier_density(landscapes[1]))\n",
    "    print(calc_fourier_density(landscapes[2]))\n",
    "\n",
    "    #test scalar curvature\n",
    "    print(\"---------\")\n",
    "    print(\"Scalar curvature absolute sums: \")\n",
    "    for landscape in landscapes:\n",
    "        print(np.sum(np.absolute(calc_scalar_curvature(landscape))))\n",
    "    \n",
    "n_dim_tests()"
   ]
  },
  {
   "cell_type": "code",
   "execution_count": null,
   "metadata": {},
   "outputs": [],
   "source": [
    "# n-dim tests 2d\n",
    "def n_dim_tests_2d(\n",
    "):\n",
    "    qnn = get_qnn(\"CudaU2\", list(range(1)), 1, device=\"cpu\")\n",
    "    unitary = torch.tensor(\n",
    "        np.array([[1, 1], [1, -1]]) / np.sqrt(2), dtype=torch.complex128, device=\"cpu\"\n",
    "    )\n",
    "    num_ticks = 12\n",
    "    # generate data points\n",
    "    non_entangled_inputs = generate_random_datapoints(5, 1, unitary)\n",
    "    entangled_inputs = generate_random_datapoints(5, 2, unitary)\n",
    "    z_o_inputs = get_zero_one_datapoints()\n",
    "    # get 3d landscapes\n",
    "    loss_z_o_3d= generate_loss_landscape(\n",
    "        num_ticks, z_o_inputs, unitary, qnn\n",
    "    )\n",
    "    loss_non_ent_3d= generate_loss_landscape(\n",
    "        num_ticks, non_entangled_inputs, unitary, qnn\n",
    "    )\n",
    "    loss_ent_3d= generate_loss_landscape(\n",
    "        num_ticks, entangled_inputs, unitary, qnn\n",
    "    )\n",
    "    landscapes = [loss_z_o_3d, loss_non_ent_3d, loss_ent_3d]\n",
    "    #test scalar curvature\n",
    "    # print(get_scalar_curvature(landscapes[0]))\n",
    "    # get_scalar_curvature(landscapes[1])\n",
    "    # get_scalar_curvature(landscapes[2])\n",
    "    #test total variation\n",
    "    print(\n",
    "        \"TOTAL VARIATION: \",\n",
    "        calc_total_variation(landscapes[0]),\n",
    "        calc_total_variation(landscapes[1]),\n",
    "        calc_total_variation(landscapes[2]),\n",
    "    )\n",
    "    #test igsd\n",
    "    for landscape in landscapes:\n",
    "        igsd = calc_IGSD(landscape)\n",
    "        count = 1\n",
    "        for sd in igsd:\n",
    "            print(f\"IGSD (dir {count}): {sd}\")\n",
    "            count +=1\n",
    "        print(\"---------\")\n",
    "    #test fourier stuff\n",
    "    print(calc_fourier_density(landscapes[0]))\n",
    "    print(calc_fourier_density(landscapes[1]))\n",
    "    print(calc_fourier_density(landscapes[2]))\n",
    "\n",
    "    #test scalar curvature\n",
    "    for landscape in landscapes:\n",
    "        print(\"SC: \",np.sum(np.absolute(calc_scalar_curvature(landscape))))\n",
    "    \n",
    "n_dim_tests_2d()"
   ]
  },
  {
   "cell_type": "code",
   "execution_count": null,
   "metadata": {},
   "outputs": [],
   "source": [
    "# EXP on Hadamard\n",
    "run_hadamard()"
   ]
  },
  {
   "cell_type": "code",
   "execution_count": null,
   "metadata": {},
   "outputs": [],
   "source": [
    "# EXP on Pauli-X\n",
    "run_pauli_x()"
   ]
  },
  {
   "cell_type": "code",
   "execution_count": null,
   "metadata": {},
   "outputs": [],
   "source": [
    "# EXP on Pauli-Y\n",
    "run_pauli_y()"
   ]
  },
  {
   "cell_type": "code",
   "execution_count": null,
   "metadata": {},
   "outputs": [],
   "source": [
    "# EXP on Pauli-Z\n",
    "run_pauli_z()"
   ]
  },
  {
   "cell_type": "code",
   "execution_count": null,
   "metadata": {},
   "outputs": [],
   "source": [
    "# EXP on Phase (S)\n",
    "run_phase_s()"
   ]
  }
 ],
 "metadata": {
  "kernelspec": {
   "display_name": "base",
   "language": "python",
   "name": "python3"
  },
  "language_info": {
   "codemirror_mode": {
    "name": "ipython",
    "version": 3
   },
   "file_extension": ".py",
   "mimetype": "text/x-python",
   "name": "python",
   "nbconvert_exporter": "python",
   "pygments_lexer": "ipython3",
   "version": "3.8.10"
  },
  "vscode": {
   "interpreter": {
    "hash": "e6822839c80bb80c42f7f9e096efdd447a89633a8e8a553b5cfb2012f3a4eafe"
   }
  }
 },
 "nbformat": 4,
 "nbformat_minor": 2
}
